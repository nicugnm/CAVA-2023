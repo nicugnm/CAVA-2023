{
 "cells": [
  {
   "cell_type": "code",
   "execution_count": 1,
   "id": "01fef1ad",
   "metadata": {
    "ExecuteTime": {
     "end_time": "2023-11-25T18:13:50.588619Z",
     "start_time": "2023-11-25T18:13:50.293461Z"
    }
   },
   "outputs": [],
   "source": [
    "import cv2 as cv\n",
    "import numpy as np\n",
    "import os"
   ]
  },
  {
   "cell_type": "code",
   "execution_count": 2,
   "id": "bb7d42b3",
   "metadata": {
    "ExecuteTime": {
     "end_time": "2023-11-25T18:13:51.129529Z",
     "start_time": "2023-11-25T18:13:51.122109Z"
    }
   },
   "outputs": [],
   "source": [
    "def show_image(title,image):\n",
    "    image=cv.resize(image,(0,0),fx=0.3,fy=0.3)\n",
    "    cv.imshow(title,image) \n",
    "    cv.waitKey(0)\n",
    "    cv.destroyAllWindows()"
   ]
  },
  {
   "cell_type": "code",
   "execution_count": 3,
   "id": "3ca610c3",
   "metadata": {
    "ExecuteTime": {
     "end_time": "2023-11-25T18:13:52.152585Z",
     "start_time": "2023-11-25T18:13:52.146346Z"
    }
   },
   "outputs": [],
   "source": [
    "def extrage_careu(image):\n",
    "    image = cv.cvtColor(image,cv.COLOR_BGR2GRAY)\n",
    "    image_m_blur = cv.medianBlur(image,3)\n",
    "    image_g_blur = cv.GaussianBlur(image_m_blur, (0, 0), 5) \n",
    "    image_sharpened = cv.addWeighted(image_m_blur, 1.2, image_g_blur, -0.8, 0)\n",
    "    #show_image('image_sharpened',image_sharpened)\n",
    "    _, thresh = cv.threshold(image_sharpened, 30, 255, cv.THRESH_BINARY)\n",
    "\n",
    "    kernel = np.ones((3, 3), np.uint8)\n",
    "    thresh = cv.erode(thresh, kernel)\n",
    "    #show_image('image_thresholded',thresh)\n",
    "\n",
    "    edges =  cv.Canny(thresh ,200,400)\n",
    "    #show_image('edges',edges)\n",
    "    contours, _ = cv.findContours(edges,  cv.RETR_EXTERNAL, cv.CHAIN_APPROX_SIMPLE)\n",
    "    max_area = 0\n",
    "   \n",
    "    for i in range(len(contours)):\n",
    "        if(len(contours[i]) >3):\n",
    "            possible_top_left = None\n",
    "            possible_bottom_right = None\n",
    "            for point in contours[i].squeeze():\n",
    "                if possible_top_left is None or point[0] + point[1] < possible_top_left[0] + possible_top_left[1]:\n",
    "                    possible_top_left = point\n",
    "\n",
    "                if possible_bottom_right is None or point[0] + point[1] > possible_bottom_right[0] + possible_bottom_right[1] :\n",
    "                    possible_bottom_right = point\n",
    "\n",
    "            diff = np.diff(contours[i].squeeze(), axis = 1)\n",
    "            possible_top_right = contours[i].squeeze()[np.argmin(diff)]\n",
    "            possible_bottom_left = contours[i].squeeze()[np.argmax(diff)]\n",
    "            if cv.contourArea(np.array([[possible_top_left],[possible_top_right],[possible_bottom_right],[possible_bottom_left]])) > max_area:\n",
    "                max_area = cv.contourArea(np.array([[possible_top_left],[possible_top_right],[possible_bottom_right],[possible_bottom_left]]))\n",
    "                top_left = possible_top_left\n",
    "                bottom_right = possible_bottom_right\n",
    "                top_right = possible_top_right\n",
    "                bottom_left = possible_bottom_left\n",
    "\n",
    "    width = 810\n",
    "    height = 810\n",
    "    \n",
    "    image_copy = cv.cvtColor(image.copy(),cv.COLOR_GRAY2BGR)\n",
    "    cv.circle(image_copy,tuple(top_left),20,(0,0,255),-1)\n",
    "    cv.circle(image_copy,tuple(top_right),20,(0,0,255),-1)\n",
    "    cv.circle(image_copy,tuple(bottom_left),20,(0,0,255),-1)\n",
    "    cv.circle(image_copy,tuple(bottom_right),20,(0,0,255),-1)\n",
    "    #show_image(\"detected corners\",image_copy)\n",
    "\n",
    "    puzzle = np.array([top_left,top_right,bottom_right,bottom_left], dtype = \"float32\")\n",
    "    destination_of_puzzle = np.array([[0,0],[width,0],[width,height],[0,height]], dtype = \"float32\")\n",
    "\n",
    "    M = cv.getPerspectiveTransform(puzzle,destination_of_puzzle)\n",
    "\n",
    "    result = cv.warpPerspective(image, M, (width, height))\n",
    "    result = cv.cvtColor(result,cv.COLOR_GRAY2BGR)\n",
    "    \n",
    "    return result"
   ]
  },
  {
   "cell_type": "code",
   "execution_count": 4,
   "id": "7468cf3b",
   "metadata": {
    "ExecuteTime": {
     "end_time": "2023-11-25T18:13:53.235100Z",
     "start_time": "2023-11-25T18:13:53.228941Z"
    }
   },
   "outputs": [],
   "source": [
    "lines_horizontal=[]\n",
    "for i in range(0,811,90):\n",
    "    l=[]\n",
    "    l.append((0,i))\n",
    "    l.append((809,i))\n",
    "    lines_horizontal.append(l)"
   ]
  },
  {
   "cell_type": "code",
   "execution_count": 5,
   "id": "75d253b8",
   "metadata": {
    "ExecuteTime": {
     "end_time": "2023-11-25T18:13:53.979437Z",
     "start_time": "2023-11-25T18:13:53.974955Z"
    }
   },
   "outputs": [],
   "source": [
    "lines_vertical=[]\n",
    "for i in range(0,811,90):\n",
    "    l=[]\n",
    "    l.append((i,0))\n",
    "    l.append((i,809))\n",
    "    lines_vertical.append(l)"
   ]
  },
  {
   "cell_type": "code",
   "execution_count": 6,
   "id": "9896eff1",
   "metadata": {
    "ExecuteTime": {
     "end_time": "2023-11-25T18:14:01.371829Z",
     "start_time": "2023-11-25T18:13:55.449558Z"
    }
   },
   "outputs": [],
   "source": [
    "files=os.listdir('data/train')\n",
    "for file in files:\n",
    "    if file[-3:]=='jpg':\n",
    "        img = cv.imread('data/train/'+file)\n",
    "        result=extrage_careu(img)\n",
    "        for line in  lines_vertical : \n",
    "            cv.line(result, line[0], line[1], (0, 255, 0), 5)\n",
    "        for line in  lines_horizontal : \n",
    "            cv.line(result, line[0], line[1], (0, 0, 255), 5)\n",
    "        show_image('img',result)"
   ]
  },
  {
   "cell_type": "code",
   "execution_count": 7,
   "outputs": [],
   "source": [
    "def determina_configuratie_careu_ox(thresh,lines_horizontal,lines_vertical):\n",
    "    matrix = np.empty((9,9), dtype='str')\n",
    "    for i in range(len(lines_horizontal)-1):\n",
    "        for j in range(len(lines_vertical)-1):\n",
    "            y_min = lines_vertical[j][0][0] + 20\n",
    "            y_max = lines_vertical[j + 1][1][0] - 20\n",
    "            x_min = lines_horizontal[i][0][1] + 20\n",
    "            x_max = lines_horizontal[i + 1][1][1] - 20\n",
    "            patch = thresh[x_min:x_max, y_min:y_max].copy()\n",
    "            Medie_patch=np.mean(patch)\n",
    "            if Medie_patch>0:\n",
    "                matrix[i][j]='x'\n",
    "            else:\n",
    "                matrix[i][j]='o'\n",
    "    return matrix"
   ],
   "metadata": {
    "collapsed": false,
    "ExecuteTime": {
     "end_time": "2023-11-25T18:14:13.340723Z",
     "start_time": "2023-11-25T18:14:13.333899Z"
    }
   },
   "id": "5bf82a66464c5ef"
  },
  {
   "cell_type": "code",
   "execution_count": 8,
   "id": "319e2da0",
   "metadata": {
    "ExecuteTime": {
     "end_time": "2023-11-25T18:14:14.037302Z",
     "start_time": "2023-11-25T18:14:14.032478Z"
    }
   },
   "outputs": [],
   "source": [
    "def vizualizare_configuratie(result,matrix,lines_horizontal,lines_vertical):\n",
    "    for i in range(len(lines_horizontal) - 1):\n",
    "        for j in range(len(lines_vertical) - 1):\n",
    "            y_min = lines_vertical[j][0][0]\n",
    "            y_max = lines_vertical[j + 1][1][0]\n",
    "            x_min = lines_horizontal[i][0][1]\n",
    "            x_max = lines_horizontal[i + 1][1][1]\n",
    "            if matrix[i][j] == 'x': \n",
    "                cv.rectangle(result, (y_min, x_min), (y_max, x_max), color=(255, 0, 0), thickness=5)"
   ]
  },
  {
   "cell_type": "code",
   "execution_count": 9,
   "id": "ab341ad3",
   "metadata": {
    "ExecuteTime": {
     "end_time": "2023-11-25T18:14:24.341303Z",
     "start_time": "2023-11-25T18:14:14.967219Z"
    }
   },
   "outputs": [],
   "source": [
    "files=os.listdir('data/train')\n",
    "for file in files:\n",
    "    if file[-3:]=='jpg':\n",
    "        img = cv.imread('data/train/'+file)\n",
    "        result=extrage_careu(img)\n",
    "        _, thresh = cv.threshold(result, 100, 255, cv.THRESH_BINARY_INV)\n",
    "        matrice=determina_configuratie_careu_ox(thresh,lines_horizontal,lines_vertical)\n",
    "        vizualizare_configuratie(result,matrice,lines_horizontal,lines_vertical)\n",
    "        show_image('img',result)"
   ]
  },
  {
   "cell_type": "code",
   "execution_count": null,
   "id": "80d7bfc1",
   "metadata": {
    "ExecuteTime": {
     "start_time": "2023-11-25T18:07:22.579617Z"
    }
   },
   "outputs": [],
   "source": [
    "def clasifica_cifra(patch):\n",
    "        maxi=-np.inf\n",
    "        poz=-1\n",
    "        for j in range(1,10):\n",
    "            img_template=cv.imread('templates/'+str(j)+'.jpg')\n",
    "            img_template= cv.cvtColor(img_template,cv.COLOR_BGR2GRAY)\n",
    "            corr = cv.matchTemplate(patch,img_template,  cv.TM_CCOEFF_NORMED)\n",
    "            corr=np.max(corr)\n",
    "            if corr>maxi:\n",
    "                maxi=corr\n",
    "                poz=j\n",
    "        return poz"
   ]
  },
  {
   "cell_type": "code",
   "execution_count": null,
   "id": "22f46e58",
   "metadata": {
    "ExecuteTime": {
     "end_time": "2023-11-25T18:07:22.583177Z",
     "start_time": "2023-11-25T18:07:22.581040Z"
    }
   },
   "outputs": [],
   "source": [
    "def determina_configuratie_careu_ocifre(img,thresh,lines_horizontal,lines_vertical):\n",
    "    matrix = np.empty((9,9), dtype='str')\n",
    "    for i in range(len(lines_horizontal)-1):\n",
    "        for j in range(len(lines_vertical)-1):\n",
    "            y_min = lines_vertical[j][0][0] + 15\n",
    "            y_max = lines_vertical[j + 1][1][0] - 15\n",
    "            x_min = lines_horizontal[i][0][1] + 15\n",
    "            x_max = lines_horizontal[i + 1][1][1] - 15\n",
    "            patch = thresh[x_min:x_max, y_min:y_max].copy()\n",
    "            patch_orig=img[x_min:x_max, y_min:y_max].copy()\n",
    "            patch_orig= cv.cvtColor(patch_orig,cv.COLOR_BGR2GRAY)\n",
    "            Medie_patch=np.mean(patch)\n",
    "            if Medie_patch>0:\n",
    "                matrix[i][j]=clasifica_cifra(patch_orig)\n",
    "            else:\n",
    "                matrix[i][j]='o'\n",
    "    return matrix"
   ]
  },
  {
   "cell_type": "code",
   "execution_count": null,
   "id": "91230955",
   "metadata": {
    "ExecuteTime": {
     "start_time": "2023-11-25T18:07:22.582785Z"
    }
   },
   "outputs": [],
   "source": [
    "files=os.listdir('data/train')\n",
    "for file in files:\n",
    "    if file[-3:]=='jpg':\n",
    "        img = cv.imread('data/train/'+file)\n",
    "        result=extrage_careu(img)\n",
    "        _, thresh = cv.threshold(result, 100, 255, cv.THRESH_BINARY_INV)\n",
    "        matrice=determina_configuratie_careu_ocifre(result,thresh,lines_horizontal,lines_vertical)\n",
    "        print(matrice)\n",
    "        show_image('img',img)"
   ]
  }
 ],
 "metadata": {
  "kernelspec": {
   "display_name": "Python 3 (ipykernel)",
   "language": "python",
   "name": "python3"
  },
  "language_info": {
   "codemirror_mode": {
    "name": "ipython",
    "version": 3
   },
   "file_extension": ".py",
   "mimetype": "text/x-python",
   "name": "python",
   "nbconvert_exporter": "python",
   "pygments_lexer": "ipython3",
   "version": "3.9.16"
  }
 },
 "nbformat": 4,
 "nbformat_minor": 5
}
